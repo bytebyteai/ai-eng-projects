{
 "cells": [
  {
   "cell_type": "markdown",
   "id": "568f5f07",
   "metadata": {
    "id": "568f5f07"
   },
   "source": [
    "# Project 2: Customer‑Support Chatbot for an E-Commerce Store"
   ]
  },
  {
   "cell_type": "markdown",
   "id": "2cfe2a04",
   "metadata": {
    "id": "2cfe2a04"
   },
   "source": [
    "Welcome! In this project, you'll build a **chatbot** that answers customer service questions about Everstorm Outfitters, an imaginary e-commerce store.\n",
    "\n",
    "Run each cell in order. Feel free to modify them as you go to better understand each tool and search the web or look online for documentation."
   ]
  },
  {
   "cell_type": "markdown",
   "id": "c809face",
   "metadata": {
    "id": "c809face"
   },
   "source": [
    "[![Open In Colab](https://colab.research.google.com/assets/colab-badge.svg)](https://colab.research.google.com/http://github.com/bytebyteai/ai-eng-projects/blob/main/project_2/rag_chatbot.ipynb)"
   ]
  },
  {
   "cell_type": "markdown",
   "id": "f49e17b2",
   "metadata": {
    "id": "f49e17b2"
   },
   "source": [
    "## Learning Objectives  \n",
    "* **Ingest & chunk** unstructured docs  \n",
    "* **Embed** chunks and **index** with *FAISS*  \n",
    "* **Retrieve** context and **craft prompts**  \n",
    "* **Run** an open‑weight LLM locally with *Ollama*  \n",
    "* **Build** a Retrieval-Augmented Generation (RAG) chain\n",
    "* **Package** the chat loop in a minimal **Streamlit** web UI"
   ]
  },
  {
   "cell_type": "markdown",
   "id": "2a46b9cc",
   "metadata": {
    "id": "2a46b9cc"
   },
   "source": [
    "## Roadmap  \n",
    "We will build a RAG-based chatbot in **six** steps:\n",
    "\n",
    "1. **Environment setup**\n",
    "2. **Data preparation**  \n",
    "   a. Load source documents  \n",
    "   b. Chunk the text  \n",
    "3. **Build a retriever**  \n",
    "   a. Generate embeddings  \n",
    "   b. Build a FAISS vector index  \n",
    "4. **Build a generation engine**. Load the *Gemma3-1B* model through Ollama and run a sanity check.  \n",
    "5. **Build a RAG**. Connect the system prompt, retriever, and LLM together.\n",
    "6. **(Optional) Streamlit UI**. Wrap everything in a simple web app so users can chat with the bot.\n"
   ]
  },
  {
   "cell_type": "markdown",
   "id": "3a01819c",
   "metadata": {
    "id": "3a01819c"
   },
   "source": [
    "## 1 - Environment setup\n",
    "\n",
    "We use conda to manage our project dependencies and ensure everyone has a consistent setup. Conda is an open-source package and environment manager that makes it easy to install libraries and switch between isolated environments. To learn more about conda, you can read: https://docs.conda.io/en/latest/\n",
    "\n",
    "Create and activate a clean *conda* environment and install the required packages. If you don't have conda installed, visit https://www.anaconda.com/docs/getting-started/miniconda/main.\n",
    "\n",
    "\n",
    "Open your terminal, navigate to the project folder where this notebook is located, and run the following commands.\n",
    "\n",
    "```bash\n",
    "conda env create -f environment.yml && conda activate rag-chatbot\n",
    "\n",
    "# (Optional but recommended) Register this environment as a Jupyter kernel\n",
    "python -m ipykernel install --user --name=rag-chatbot --display-name \"rag-chatbot\"\n",
    "```\n",
    "Once this is done, you can select “rag-chatbot” from the Kernel → Change Kernel menu in Jupyter or VS Code.\n",
    "\n",
    "\n",
    "> Behind the scenes:\n",
    "> * Conda reads `environment.yml`, solves all pinned dependencies, and builds an isolated environment named `rag-chatbot`.\n",
    "> * When it reaches the file’s \"pip:\" section, Conda automatically invokes pip to install any remaining Python-only packages so the whole stack be available for the project.\n",
    "> * Registering the kernel makes your new environment visible to Jupyter, so the notebook runs inside the same environment you just created."
   ]
  },
  {
   "cell_type": "markdown",
   "id": "jNaRYQ3gt1Ff",
   "metadata": {
    "id": "jNaRYQ3gt1Ff"
   },
   "source": [
    "### Install libraries with pip instead of conda"
   ]
  },
  {
   "cell_type": "code",
   "execution_count": 2,
   "id": "-114z_IftPzY",
   "metadata": {
    "colab": {
     "base_uri": "https://localhost:8080/"
    },
    "executionInfo": {
     "elapsed": 36488,
     "status": "ok",
     "timestamp": 1760210785276,
     "user": {
      "displayName": "",
      "userId": ""
     },
     "user_tz": -120
    },
    "id": "-114z_IftPzY",
    "outputId": "d67524bf-c624-43d9-bff7-1e458f4be86b"
   },
   "outputs": [
    {
     "name": "stdout",
     "output_type": "stream",
     "text": [
      "✅ All libraries installed cleanly!\n"
     ]
    }
   ],
   "source": [
    "from IPython.display import clear_output\n",
    "\n",
    "print(\"Installing required libraries...\")\n",
    "\n",
    "!pip install -q \\\n",
    "    langchain==0.3.25 \\\n",
    "    langchain-community==0.3.24 \\\n",
    "    sentence-transformers==4.1.0 \\\n",
    "    streamlit==1.45.1 \\\n",
    "    openai==1.79.0 \\\n",
    "    faiss-cpu==1.11.0 \\\n",
    "    unstructured==0.17.2\n",
    "\n",
    "clear_output()\n",
    "print(\"✅ All libraries installed cleanly!\")"
   ]
  },
  {
   "cell_type": "markdown",
   "id": "32a29e43",
   "metadata": {
    "id": "32a29e43"
   },
   "source": [
    "Let's import required libraries and print a message if we're not **missing packages**."
   ]
  },
  {
   "cell_type": "code",
   "execution_count": 3,
   "id": "65b49fcb",
   "metadata": {
    "colab": {
     "base_uri": "https://localhost:8080/"
    },
    "executionInfo": {
     "elapsed": 19270,
     "status": "ok",
     "timestamp": 1760210807250,
     "user": {
      "displayName": "",
      "userId": ""
     },
     "user_tz": -120
    },
    "id": "65b49fcb",
    "outputId": "b62e7985-4128-4f61-9a4e-0917f5fc139c"
   },
   "outputs": [
    {
     "name": "stdout",
     "output_type": "stream",
     "text": [
      "✅ Libraries imported! You're good to go!\n"
     ]
    }
   ],
   "source": [
    "# Import standard libraries for file handling and text processing\n",
    "import os, pathlib, textwrap, glob\n",
    "\n",
    "# Load documents from various sources (URLs, text files, PDFs)\n",
    "from langchain_community.document_loaders import UnstructuredURLLoader, TextLoader, PyPDFLoader\n",
    "\n",
    "# Split long texts into smaller, manageable chunks for embedding\n",
    "from langchain.text_splitter import RecursiveCharacterTextSplitter\n",
    "\n",
    "# Vector store to store and retrieve embeddings efficiently using FAISS\n",
    "from langchain.vectorstores import FAISS\n",
    "\n",
    "# Generate text embeddings using OpenAI or Hugging Face models\n",
    "from langchain.embeddings import OpenAIEmbeddings, HuggingFaceEmbeddings, SentenceTransformerEmbeddings\n",
    "\n",
    "# Use local LLMs (e.g., via Ollama) for response generation\n",
    "from langchain.llms import Ollama\n",
    "\n",
    "# Build a retrieval chain that combines a retriever, a prompt, and an LLM\n",
    "from langchain.chains import ConversationalRetrievalChain\n",
    "\n",
    "# Create prompts for the RAG system\n",
    "from langchain.prompts import PromptTemplate\n",
    "\n",
    "print(\"✅ Libraries imported! You're good to go!\")"
   ]
  },
  {
   "cell_type": "markdown",
   "id": "1aaacfdc",
   "metadata": {
    "id": "1aaacfdc"
   },
   "source": [
    "## 2 - Data preparation\n",
    "The goal of this step is to turn all reference documents into small chunks of text that a retriever can index and search. These documents typically come from:\n",
    "* PDF files: local documents such as policies, user manuals, or guides.\n",
    "* Web pages (HTML): online documentation, blog posts, or help articles.\n",
    "\n",
    "In this step, we perform two actions:\n",
    "* **Ingesting**: load every PDF and collect the raw text in a list named `raw_docs`.\n",
    "* **Chunking**: split each document into small, overlapping chunks so later steps can match a user query to the most relevant passage."
   ]
  },
  {
   "cell_type": "markdown",
   "id": "87150689",
   "metadata": {
    "id": "87150689"
   },
   "source": [
    "### 2.1 - Ingest source documents"
   ]
  },
  {
   "cell_type": "markdown",
   "id": "078b461a",
   "metadata": {
    "id": "078b461a"
   },
   "source": [
    "We can use different libraries to load and process PDFs. A quick web search will show several options, each with its own strengths. In this case, we’ll use PyPDFLoader from LangChain, which makes it easy to extract text from PDF files for downstream processing. To learn more about how to use it, refer to: https://python.langchain.com/docs/integrations/document_loaders/pypdfloader/\n",
    "\n",
    "Use **PyPDFLoader** to load every PDF whose filename matches `data/Everstorm_*.pdf` and collect all pages in a list called `raw_docs`. The content of these PDFs is synthetically generated for educational purposes."
   ]
  },
  {
   "cell_type": "code",
   "execution_count": 4,
   "id": "9ff055a6",
   "metadata": {
    "colab": {
     "base_uri": "https://localhost:8080/"
    },
    "executionInfo": {
     "elapsed": 1385,
     "status": "ok",
     "timestamp": 1760210812238,
     "user": {
      "displayName": "",
      "userId": ""
     },
     "user_tz": -120
    },
    "id": "9ff055a6",
    "outputId": "918e380c-a6a3-488a-ed26-a000c1f81e60"
   },
   "outputs": [
    {
     "name": "stderr",
     "output_type": "stream",
     "text": [
      "WARNING:pypdf._reader:Ignoring wrong pointing object 76 0 (offset 0)\n",
      "WARNING:pypdf._reader:Ignoring wrong pointing object 81 0 (offset 0)\n",
      "WARNING:pypdf._reader:Ignoring wrong pointing object 80 0 (offset 0)\n"
     ]
    },
    {
     "name": "stdout",
     "output_type": "stream",
     "text": [
      "Loaded 8 PDF pages from 4 files.\n"
     ]
    }
   ],
   "source": [
    "pdf_paths = glob.glob(\"data/Everstorm_*.pdf\")\n",
    "raw_docs = []\n",
    "\n",
    "for path in pdf_paths:\n",
    "    loader = PyPDFLoader(path)\n",
    "    raw_docs.extend(loader.load())\n",
    "\n",
    "print(f\"Loaded {len(raw_docs)} PDF pages from {len(pdf_paths)} files.\")"
   ]
  },
  {
   "cell_type": "markdown",
   "id": "c69f135e",
   "metadata": {
    "id": "c69f135e"
   },
   "source": [
    "### (Optional) 2.1 - Load web pages\n",
    "You can also pull content straight from the web. Various libraries support reading and parsing web pages directly into text, which is useful for building custom knowledge bases. One example is **UnstructuredURLLoader** from LangChain, which can extract readable content from raw HTML pages and return them in a structured format. To learn more, see: https://python.langchain.com/api_reference/community/document_loaders/langchain_community.document_loaders.url.UnstructuredURLLoader.html\n",
    "\n",
    "To practice, load each HTML page below and store the results in a list called `raw_docs`. We’ve included a few sample URLs, but you can replace them with any links you prefer.\n",
    "\n",
    "For robustness, add an offline fallback in case a URL fails. In real projects, we typically cache fetched pages to disk, handle rate limits, and track fetch timestamps so content can be refreshed periodically without relying on live network calls during development. For this project, we don’t have offline HTML copies available, but you can still practice by loading any PDFs from the data/ folder using PyPDFLoader and appending them to raw_docs."
   ]
  },
  {
   "cell_type": "code",
   "execution_count": null,
   "id": "65abec32",
   "metadata": {
    "id": "65abec32"
   },
   "outputs": [],
   "source": [
    "URLS = [\n",
    "    # --- BigCommerce – shipping & refunds ---\n",
    "    \"https://developer.bigcommerce.com/docs/store-operations/shipping\",\n",
    "    \"https://developer.bigcommerce.com/docs/store-operations/orders/refunds\",\n",
    "    # --- Stripe – disputes & chargebacks ---\n",
    "    # \"https://docs.stripe.com/disputes\",\n",
    "    # --- WooCommerce – REST API reference ---\n",
    "    # \"https://woocommerce.github.io/woocommerce-rest-api-docs/v3.html\",\n",
    "]\n",
    "\n",
    "try:\n",
    "    ########################\n",
    "    #### Your code here (~2-3 lines of code) ####\n",
    "    ########################\n",
    "    print(f\"Fetched {len(raw_docs)} documents from the web.\")\n",
    "except Exception as e:\n",
    "    print(\"⚠️  Web fetch failed, using offline copies:\", e)\n",
    "    raw_docs = []\n",
    "    ########################\n",
    "    #### Your code here ####\n",
    "    ########################\n",
    "    print(f\"Loaded {len(raw_docs)} offline documents.\")"
   ]
  },
  {
   "cell_type": "markdown",
   "id": "c0ac4490",
   "metadata": {
    "id": "c0ac4490"
   },
   "source": [
    "### 2.2 - Chunk the text"
   ]
  },
  {
   "cell_type": "markdown",
   "id": "9c242e44",
   "metadata": {
    "id": "9c242e44"
   },
   "source": [
    "Long documents won’t work well directly with most LLMs. They can easily exceed the model’s context window, making it impossible for the model to read or reason over the full text at once. Even if they fit, processing long inputs can be inefficient and lead to weaker retrieval results.\n",
    "\n",
    "To handle this, we split large documents into smaller, overlapping chunks. Several libraries can help with text splitting, each designed to preserve structure or balance chunk size. A popular choice is `RecursiveCharacterTextSplitter` from LangChain, which splits text intelligently while keeping paragraph or sentence boundaries intact. To familiarize youself with the library, visit: https://python.langchain.com/api_reference/text_splitters/character/langchain_text_splitters.character.RecursiveCharacterTextSplitter.html\n",
    "\n",
    "In this project, we’ll split each document into chunks of roughly 300 tokens with a 30-token overlap using `RecursiveCharacterTextSplitter`. This overlap helps maintain continuity across chunks while ensuring each piece stays small enough for embedding and retrieval."
   ]
  },
  {
   "cell_type": "code",
   "execution_count": 5,
   "id": "450d48a0",
   "metadata": {
    "colab": {
     "base_uri": "https://localhost:8080/"
    },
    "executionInfo": {
     "elapsed": 54,
     "status": "ok",
     "timestamp": 1760210964589,
     "user": {
      "displayName": "",
      "userId": ""
     },
     "user_tz": -120
    },
    "id": "450d48a0",
    "outputId": "50cef8be-96fc-4a7c-a8a1-09b8ac50bb69"
   },
   "outputs": [
    {
     "name": "stdout",
     "output_type": "stream",
     "text": [
      "✅ 42 chunks ready for embedding\n"
     ]
    }
   ],
   "source": [
    "chunks = []\n",
    "text_splitter = RecursiveCharacterTextSplitter(chunk_size=300, chunk_overlap=30)\n",
    "for doc in raw_docs:\n",
    "    chunks.extend(text_splitter.split_documents([doc]))\n",
    "\n",
    "print(f\"✅ {len(chunks)} chunks ready for embedding\")"
   ]
  },
  {
   "cell_type": "code",
   "execution_count": 7,
   "id": "l9Rh5-V2wH_L",
   "metadata": {
    "colab": {
     "base_uri": "https://localhost:8080/"
    },
    "executionInfo": {
     "elapsed": 13,
     "status": "ok",
     "timestamp": 1760211019231,
     "user": {
      "displayName": "",
      "userId": ""
     },
     "user_tz": -120
    },
    "id": "l9Rh5-V2wH_L",
    "outputId": "b31d7f81-6721-4eda-a2ac-1a9a81501b9a"
   },
   "outputs": [
    {
     "name": "stdout",
     "output_type": "stream",
     "text": [
      "Everstorm  Outfitters    PRODUCT  SIZING  &  CARE  GUIDE    Rev  2.1  —  18  May  2025   A Apparel  \n"
     ]
    }
   ],
   "source": [
    "print(chunks[0].page_content[0:100])"
   ]
  },
  {
   "cell_type": "markdown",
   "id": "d89e6213",
   "metadata": {
    "id": "d89e6213"
   },
   "source": [
    "## 3 -Build a retriever\n",
    "\n",
    "A *retriever* lets the RAG pipeline efficiently look up small, relevant pieces of context at query‑time. This step has two parts:\n",
    "1. **Load a model to generate embeddings**: convert each text chunk from the reference documents into a fixed‑length vector that captures its semantic meaning.  \n",
    "2. **Build vector database**: store these embeddings in a vector database.\n"
   ]
  },
  {
   "cell_type": "markdown",
   "id": "c90db2d2",
   "metadata": {
    "id": "c90db2d2"
   },
   "source": [
    "### 3.1 - Load a model to generate embeddings"
   ]
  },
  {
   "cell_type": "markdown",
   "id": "da722b3b",
   "metadata": {
    "id": "da722b3b"
   },
   "source": [
    "The goal of this step is to convert each document chunk into a numerical vector (an embedding) that captures its semantic meaning. These embeddings allow our retriever to find and compare similar pieces of text efficiently.\n",
    "\n",
    "There are models trained specifically for this purpose, called embedding models. One popular example is OpenAI’s `text-embedding-3-small`, which produces high-quality embeddings that work well for retrieval and semantic search.\n",
    "\n",
    "If you prefer running everything locally, you can use smaller open-source models such as `gte-small` (77 M parameters). These local models load quickly, don’t require internet access, and are ideal for experimentation or environments without API access. However, they’re typically less powerful than hosted models.\n",
    "\n",
    "Alternatively, you can connect to an API service to access stronger models like OpenAI’s. These require setting an API key (for example, OPENAI_API_KEY) in your environment. OpenAI allows you to create a free account and sometimes offers limited trial credits for new users, but ongoing access requires a billing setup.\n",
    "\n",
    "In this exercise, we’ll stick to the smaller gte-small model for simplicity and reproducibility. We'll use our imported `SentenceTransformerEmbeddings` library to load the model and use it to embed queries. To learn more about lagnchain's embedding support, visit: https://python.langchain.com/docs/integrations/text_embedding/"
   ]
  },
  {
   "cell_type": "code",
   "execution_count": 11,
   "id": "4a222122",
   "metadata": {
    "colab": {
     "base_uri": "https://localhost:8080/",
     "height": 386,
     "referenced_widgets": [
      "303309b631dd45538ebdc77a3e49f06b",
      "a1fb17ddd72e4ba6a715a80e36b540d8",
      "ccffa02227b444328d63a7a23a25aad5",
      "1f58fb753a61463198e9964dfa2a98b5",
      "d2b2abf035264794b1d3fe0b5ec46428",
      "c2cb415687f149eeba74327a8b3978db",
      "2fe673543131426baca5cb6aa2b2967f",
      "ca6f0ba76f914651aa1451848f35f173",
      "735003b720a648d294272aec3a71cdbb",
      "13025672ef0f4baf98eaa0dbfc42b866",
      "5d5a5d53ed664021813d5a3b4ea016d1",
      "a6be01d844884a9bb7af34d380535c02",
      "c3e8aaef14c04627b8f0e31332f8cf21",
      "d75a7fe2823d4422bf56f91dbd9bdd1a",
      "f75a23b3731f4f13b4bf0f8343b99604",
      "32171ccae6b44a1bb2090db426d5820f",
      "9400390d5eaf4ea798b3d80ccedf17a7",
      "11409762f13c46db97ed7d726abad80e",
      "d28b6d18ea2f43d484951c5d12820f6b",
      "8911f317c9574d12a62d4b619cccf36e",
      "a7623f031a92445f9ca0d45eefc6944c",
      "f30ef82af6ee4c9498c374b5f2235cc6",
      "a85b88809f3545c797c9951693683cd9",
      "c2febd4c686844a79d5c597385b01300",
      "4394052faf2c4cf8ba35d54ec1bce0c9",
      "928442bf05eb4b1bae9065ebe6f00955",
      "f2e55ab59b7f4e20b13e7fcf43f70cca",
      "129825d862b9430a89c31fed0bf68f47",
      "cc2a5a5556dc46ed8cf3b1fd32d3c0a9",
      "c3c0fff3904f4c8f94100d556efda636",
      "913c8c94e857420591688d6b3fa0843a",
      "f6c56fe18bb449a8b8698feac3e29eeb",
      "532555266d1a4d85a0ccd2a26f709419",
      "a717034a737c4d01a5ee32b92312ff3b",
      "cdde27d3b0ba475fa9f860784b936f58",
      "1b1ed24471b8479ea4180b744c5062ea",
      "bd37a546c84947ac86127005f3408dd2",
      "3705616979f04a9391fb01924d7267de",
      "c6afc0974f5a4f038d6a7a7342e098ec",
      "d9c0dd583b764fe896cda7b124a0ecda",
      "5f53fbcb20d14b5692134db03c79c26a",
      "ae3f4680ecc846b69e9aadc6a95abad6",
      "35c85868405c4256af3e6b79c77df4a5",
      "a004aef0f8204d299a100610985b1682",
      "5e787c06ec60499688fab8cb2ca4c209",
      "46b3694f26ad41de83a3f751f13aaa6f",
      "82573d0d4dbc436196d2432251c75f1c",
      "cd9b04e87b1f4370b6d4945a41050e3b",
      "c1502024e12348a88977bd85d8eb272d",
      "39c50765581549fda56bb4471d8043cd",
      "6f9ebdacad8e4a1cb707e540de5dac32",
      "5fb69bc6103c460da130616e1e28201a",
      "ff6ec8da52e44af7be8bea754490d870",
      "31c25cd9169b41798615757d577b64b4",
      "1c1bea3ed30f4c738313fc6f12757658",
      "38e9eeba51754cf7a0bed2fbb54c0a81",
      "877e02b210364fb5b43f2eb174b96ff8",
      "768f3f6c16e24190bf0d975c979115b8",
      "cd7d6c38112b43eb822164176db73faf",
      "83cb8c868db34240884288adb4a4e97d",
      "942cb9c9e21b4f758099582b01adb720",
      "c4e39d57198048aeb638797359d971f7",
      "466004d4883348b6bf9ea27c5368ce73",
      "a5d422dcd4ba4b6e9bce260641edda26",
      "e1f036c8e31b440aa549f8a2234115a2",
      "87f0dd971d37482c8635f7a0d0e851b0",
      "f9a41bcad598444a9e048b26fdde36cb",
      "041e2d9f6d9b4f1384fd982b25ddcdc5",
      "0b6c5067ea44439c9e5eba6183046516",
      "70697cc4df0f450ebf129ebf6ee8ef7a",
      "83f4ce3267124205b7ab9f822eac3424",
      "73886f68007c47da8531260c6a33a8d3",
      "25f89babbd714a12a8b1c458fbb62aae",
      "04223ff5aeac4b70a4418ebe92490bd8",
      "1ff769f431ac4dea801718fc0d843edd",
      "093b6f8d117d4173a43a321d8cf9fea4",
      "8665ed0ab1a64f27954453d68e17b10e",
      "e162618245664f9fb3a64dbb418f34a5",
      "8d2def03970d4ebe9aa0cb6616ffc63d",
      "10673ed8322944cfb3f4e32a1ae1449e",
      "df7f5d88b4f340249bd8d440ac50d60a",
      "d33991007cf94b33a9ead35207108b54",
      "c3b7b706ab8048ca94df7e9e4251923b",
      "0fc2955bdf844ec9b07b8f7870bdd9ee",
      "3d882b68c1f04613a95e7e2e46a1b237",
      "e0746c0912da4e8488106eaa55e3d8ce",
      "2f00a816b17c4325ae900753379cf08c",
      "a2a0591dfe21437d81f80d119aad893c",
      "630366fba0c2474fb8e8476bf400a032",
      "8b6d941b072941068a36b862edeb906d",
      "b7842a0d014646a1bc5cc49795ea1af2",
      "1dcd94f0537940a898e0db590661debc",
      "658cb0690d524e728a2152f0ed707e8a",
      "19050da3777e43eb88a5e8d0e25c68dd",
      "13d9d1b63cd04d5fa1d5db7696369507",
      "4af2ffe52a954bd29456b3a0189f39fe",
      "8fdbf18c90f648719ecb379bfea1a469",
      "3d418dadc141447ca8293ce1b387890f",
      "e4a331055fc94eababfcc6bf0ab31377",
      "eb661df102e8486ea08c1d18c72a3514",
      "bc9f55800d074e84939789ebd9c39e3a",
      "93d46765742e46d79aceccd6995e4acd",
      "3c8512318aca41748e617ef589ed13f1",
      "59b3b4613ae0427d919ff218fedb9b30",
      "9c003e1b5e834f489262ed0dd535d54e",
      "cacaecdee9fd4ce8963e48faad02267a",
      "aa3a88ec02f24f0b874fb8e7ede57f06",
      "f0ca4f11afd54deb88373640c408dbfa",
      "c24c0a876f964b499a6bc5b7613074ee",
      "b473ad26465646ccabf8e42394998b7e",
      "cf907ed8c7b24742a016f0dd71050f9a",
      "797f3576fd17416da37f2dbcaa45f964",
      "7ad112350e9146498f198b42a6c71f42",
      "e741b3e1ed8840359265ba5af9a86e4a",
      "449675483dfa4b569cc264ae20d48284",
      "d3bad42d0e89409180ac65c1d70ef485",
      "0058f8344e6f4bcbacfaeced3e5117ba",
      "df97c27dd91c4976bb5dbe432e8134a0",
      "0c7de2febaf04e0e954fab490c5c4b73",
      "19acc587142f4b74a74eb595e3cc23a5",
      "d7c149bc7ee44f11ba1ef9b8a7cd54c2"
     ]
    },
    "executionInfo": {
     "elapsed": 4964,
     "status": "ok",
     "timestamp": 1760211443748,
     "user": {
      "displayName": "",
      "userId": ""
     },
     "user_tz": -120
    },
    "id": "4a222122",
    "outputId": "cabc8e29-610f-4350-baee-68301d51332c"
   },
   "outputs": [
    {
     "data": {
      "application/vnd.jupyter.widget-view+json": {
       "model_id": "303309b631dd45538ebdc77a3e49f06b",
       "version_major": 2,
       "version_minor": 0
      },
      "text/plain": [
       "modules.json:   0%|          | 0.00/349 [00:00<?, ?B/s]"
      ]
     },
     "metadata": {},
     "output_type": "display_data"
    },
    {
     "data": {
      "application/vnd.jupyter.widget-view+json": {
       "model_id": "a6be01d844884a9bb7af34d380535c02",
       "version_major": 2,
       "version_minor": 0
      },
      "text/plain": [
       "config_sentence_transformers.json:   0%|          | 0.00/116 [00:00<?, ?B/s]"
      ]
     },
     "metadata": {},
     "output_type": "display_data"
    },
    {
     "data": {
      "application/vnd.jupyter.widget-view+json": {
       "model_id": "a85b88809f3545c797c9951693683cd9",
       "version_major": 2,
       "version_minor": 0
      },
      "text/plain": [
       "README.md: 0.00B [00:00, ?B/s]"
      ]
     },
     "metadata": {},
     "output_type": "display_data"
    },
    {
     "data": {
      "application/vnd.jupyter.widget-view+json": {
       "model_id": "a717034a737c4d01a5ee32b92312ff3b",
       "version_major": 2,
       "version_minor": 0
      },
      "text/plain": [
       "sentence_bert_config.json:   0%|          | 0.00/53.0 [00:00<?, ?B/s]"
      ]
     },
     "metadata": {},
     "output_type": "display_data"
    },
    {
     "data": {
      "application/vnd.jupyter.widget-view+json": {
       "model_id": "5e787c06ec60499688fab8cb2ca4c209",
       "version_major": 2,
       "version_minor": 0
      },
      "text/plain": [
       "config.json:   0%|          | 0.00/612 [00:00<?, ?B/s]"
      ]
     },
     "metadata": {},
     "output_type": "display_data"
    },
    {
     "data": {
      "application/vnd.jupyter.widget-view+json": {
       "model_id": "38e9eeba51754cf7a0bed2fbb54c0a81",
       "version_major": 2,
       "version_minor": 0
      },
      "text/plain": [
       "model.safetensors:   0%|          | 0.00/90.9M [00:00<?, ?B/s]"
      ]
     },
     "metadata": {},
     "output_type": "display_data"
    },
    {
     "data": {
      "application/vnd.jupyter.widget-view+json": {
       "model_id": "f9a41bcad598444a9e048b26fdde36cb",
       "version_major": 2,
       "version_minor": 0
      },
      "text/plain": [
       "tokenizer_config.json:   0%|          | 0.00/350 [00:00<?, ?B/s]"
      ]
     },
     "metadata": {},
     "output_type": "display_data"
    },
    {
     "data": {
      "application/vnd.jupyter.widget-view+json": {
       "model_id": "e162618245664f9fb3a64dbb418f34a5",
       "version_major": 2,
       "version_minor": 0
      },
      "text/plain": [
       "vocab.txt: 0.00B [00:00, ?B/s]"
      ]
     },
     "metadata": {},
     "output_type": "display_data"
    },
    {
     "data": {
      "application/vnd.jupyter.widget-view+json": {
       "model_id": "630366fba0c2474fb8e8476bf400a032",
       "version_major": 2,
       "version_minor": 0
      },
      "text/plain": [
       "tokenizer.json: 0.00B [00:00, ?B/s]"
      ]
     },
     "metadata": {},
     "output_type": "display_data"
    },
    {
     "data": {
      "application/vnd.jupyter.widget-view+json": {
       "model_id": "eb661df102e8486ea08c1d18c72a3514",
       "version_major": 2,
       "version_minor": 0
      },
      "text/plain": [
       "special_tokens_map.json:   0%|          | 0.00/112 [00:00<?, ?B/s]"
      ]
     },
     "metadata": {},
     "output_type": "display_data"
    },
    {
     "data": {
      "application/vnd.jupyter.widget-view+json": {
       "model_id": "cf907ed8c7b24742a016f0dd71050f9a",
       "version_major": 2,
       "version_minor": 0
      },
      "text/plain": [
       "config.json:   0%|          | 0.00/190 [00:00<?, ?B/s]"
      ]
     },
     "metadata": {},
     "output_type": "display_data"
    },
    {
     "name": "stdout",
     "output_type": "stream",
     "text": [
      "384\n"
     ]
    }
   ],
   "source": [
    "embedding_vector = []\n",
    "\n",
    "# Embed the sentence \"Hello world! and store it in an embedding_vector.\n",
    "# Use a publicly available small model\n",
    "embedding_model = HuggingFaceEmbeddings(model_name=\"sentence-transformers/all-MiniLM-L6-v2\")\n",
    "\n",
    "# Embed a sample sentence\n",
    "embedding_vector.extend(embedding_model.embed_query(\"Hello world!\"))\n",
    "\n",
    "print(len(embedding_vector))"
   ]
  },
  {
   "cell_type": "markdown",
   "id": "cebdae3d",
   "metadata": {
    "id": "cebdae3d"
   },
   "source": [
    "### 3.2 - Build a vector database\n",
    "\n",
    "Once we have embeddings, we need a way to store and search them efficiently. A simple list wouldn’t scale well, especially when we have thousands of chunks and need to quickly find the most relevant ones.\n",
    "\n",
    "To solve this, we use **FAISS**, an open-source similarity search library developed by Meta. FAISS is optimized for fast nearest-neighbor search in high-dimensional spaces, making it ideal for tasks like semantic retrieval and recommendation. It’s strongly encouraged to visit their quickstart guide to understand how FAISS works and how to use it effectively: https://github.com/facebookresearch/faiss/wiki/getting-started\n",
    "\n",
    "In this step, we’ll feed all our document embeddings into FAISS, which builds an in-memory vector index. This index allows us to efficiently query for the *k* most similar chunks to any given question.\n",
    "\n",
    "During inference, we’ll use this index to retrieve the top-k relevant chunks and pass them to the LLM as context, enabling it to answer questions grounded in our documents.\n",
    "\n"
   ]
  },
  {
   "cell_type": "code",
   "execution_count": 14,
   "id": "611eda64",
   "metadata": {
    "colab": {
     "base_uri": "https://localhost:8080/"
    },
    "executionInfo": {
     "elapsed": 2492,
     "status": "ok",
     "timestamp": 1760211822412,
     "user": {
      "displayName": "",
      "userId": ""
     },
     "user_tz": -120
    },
    "id": "611eda64",
    "outputId": "161e98b1-e6ce-4845-c4a4-85f880d33977"
   },
   "outputs": [
    {
     "name": "stdout",
     "output_type": "stream",
     "text": [
      "✅ Vector store with 42 embeddings\n"
     ]
    }
   ],
   "source": [
    "# Expected steps:\n",
    "    # 1. Build the FAISS index from the list of document chunks and their embeddings.\n",
    "    # 2. Create a retriever object with a suitable k value (e.g., 8).\n",
    "    # 3. Save the vector store locally (e.g., under \"faiss_index\").\n",
    "    # 4. Print a short confirmation showing how many embeddings were stored.\n",
    "\n",
    "# 1. Create the FAISS vector store directly from chunks and the embedding model\n",
    "vectordb = FAISS.from_documents(chunks, embedding_model)\n",
    "\n",
    "# 2. Create a retriever with top k=8\n",
    "retriever = vectordb.as_retriever(search_kwargs={\"k\": 8})\n",
    "\n",
    "# 3. Save the vector store locally\n",
    "vectordb.save_local(\"faiss_index\")\n",
    "\n",
    "# 4. Print a short confirmation showing how many embeddings were stored.\n",
    "print(\"✅ Vector store with\", vectordb.index.ntotal, \"embeddings\")"
   ]
  },
  {
   "cell_type": "markdown",
   "id": "c456f820",
   "metadata": {
    "id": "c456f820"
   },
   "source": [
    "## 4 - Build the generation engine\n",
    "At the core of any RAG system lies an **LLM**. The retriever finds relevant information, and the LLM uses that information to generate coherent, context-aware responses.\n",
    "\n",
    "In this project, we’ll use **Gemma 3* (1B), a small but capable open-weight model, and run it entirely on your local machine using Ollama. This means you won’t need API keys or internet access to generate responses once the model is downloaded.\n",
    "\n",
    "**What is Ollama?**\n",
    "\n",
    "Ollama is a lightweight runtime for managing and serving open-weight LLMs locally. It provides:\n",
    "* A simple REST API running at localhost:11434, so your code can interact with the model via standard HTTP calls.\n",
    "* A model registry and command-line tool** to pull, run, and manage models easily.\n",
    "* Support for a wide variety of models (e.g., Gemma, Llama, Mistral, Phi, etc.), making it ideal for experimentation.\n",
    "\n",
    "To learn more about Ollama, visit: https://github.com/ollama/ollama. You can browse all supported models and their sizes here: https://ollama.com/library\n",
    "\n",
    "\n",
    "### 4.1 - Install `ollama` and serve `gemma3`\n",
    "\n",
    "Follow these steps to set up Ollama and start the model server:\n",
    "\n",
    "**1 - Install**\n",
    "```bash\n",
    "# macOS (Homebrew)\n",
    "brew install ollama\n",
    "# Linux\n",
    "curl -fsSL https://ollama.com/install.sh | sh\n",
    "```\n",
    "\n",
    "If you’re on Windows, install using the official installer from https://ollama.com/download.\n",
    "\n",
    "**2 - Start the Ollama server (keep this terminal open)**\n",
    "```bash\n",
    "ollama serve\n",
    "```\n",
    "This command launches a local server at http://localhost:11434, which will stay running in the background.\n",
    "\n",
    "\n",
    "**3 - Pull the Gemma mode (or the model of your choice) in a new terminal**\n",
    "```bash\n",
    "ollama pull gemma3:1b\n",
    "```\n",
    "\n",
    "This downloads the 1B version of Gemma 3, a compact model suitable for running on most modern laptops. Once downloaded, Ollama will automatically handle model loading and caching.\n",
    "\n",
    "\n",
    "After this setup, your system is ready to generate responses locally using the Gemma model through the Ollama API.\n"
   ]
  },
  {
   "cell_type": "markdown",
   "id": "bba7e203",
   "metadata": {
    "id": "bba7e203"
   },
   "source": [
    "### 4.2 - Test an LLM with a random prompt (Sanity check)\n"
   ]
  },
  {
   "cell_type": "code",
   "execution_count": null,
   "id": "b1d34a32",
   "metadata": {
    "id": "b1d34a32"
   },
   "outputs": [],
   "source": [
    "# Expected steps:\n",
    "    # 1. Initialize the model (for example, gemma3:1b) with a low temperature such as 0.1 for more factual outputs.\n",
    "    # 2. Use llm.invoke() with a short test prompt and print the response to verify that the model runs successfully.\n",
    "\n",
    "# Initialize the Gemma 3 model\n",
    "llm = Ollama(model=\"gemma3:1b\", temperature=0.1)\n",
    "\n",
    "# Test with a short prompt\n",
    "response = llm.invoke(\"Hello! Can you introduce yourself briefly?\")"
   ]
  },
  {
   "cell_type": "markdown",
   "id": "6556263d",
   "metadata": {
    "id": "6556263d"
   },
   "source": [
    "## Build a RAG"
   ]
  },
  {
   "cell_type": "markdown",
   "id": "3dbfec15",
   "metadata": {
    "id": "3dbfec15"
   },
   "source": [
    "### 5.1 - Define a system prompt"
   ]
  },
  {
   "cell_type": "markdown",
   "id": "66b5c84b",
   "metadata": {
    "id": "66b5c84b"
   },
   "source": [
    "At this stage, we need to tell the model how to behave when generating answers. The **system prompt** acts as the model’s rulebook. It should clearly instruct the model to answer only using the retrieved context and to admit when it doesn’t know the answer. This helps prevent hallucination and keeps the responses grounded in the provided documents.\n",
    "\n",
    "In general, a good RAG prompt emphasizes three things: stay within context, stay factual, and stay concise. This is important because RAG works by grounding the LLM in retrieved text. If the prompt is vague, the model may invent details. A precise system prompt reduces hallucinations and keeps answers aligned with your corpus."
   ]
  },
  {
   "cell_type": "code",
   "execution_count": null,
   "id": "dcecb2b6",
   "metadata": {
    "id": "dcecb2b6"
   },
   "outputs": [],
   "source": [
    "SYSTEM_TEMPLATE = \"\"\"\n",
    "You are a **Customer Support Chatbot**. Use only the information in CONTEXT to answer.\n",
    "If the answer is not in CONTEXT, respond with “I'm not sure from the docs.”\n",
    "\n",
    "Rules:\n",
    "1) Use ONLY the provided <context> to answer.\n",
    "2) If the answer is not in the context, say: \"I don't know based on the retrieved documents.\"\n",
    "3) Be concise and accurate. Prefer quoting key phrases from the context.\n",
    "4) When possible, cite sources as [source: {source}] using the metadata.\n",
    "\n",
    "CONTEXT:\n",
    "{context}\n",
    "\n",
    "USER:\n",
    "{question}\n",
    "\"\"\""
   ]
  },
  {
   "cell_type": "markdown",
   "id": "de27cc9a",
   "metadata": {
    "id": "de27cc9a"
   },
   "source": [
    "### 5.2 Create a RAG chain\n",
    "Now that we have a retriever, a prompt, and a language model, we can connect them into a single RAG pipeline. The retriever finds the most relevant chunks from our vector index, the prompt injects those chunks into the system message, and the LLM uses that context to produce the final answer. (retriever → prompt → model)\n",
    "\n",
    "This connection is handled through LangChain’s `ConversationalRetrievalChain`, which combines retrieval and generation. To familiarize yourself with the library, visit: https://python.langchain.com/api_reference/langchain/chains/langchain.chains.conversational_retrieval.base.ConversationalRetrievalChain.html"
   ]
  },
  {
   "cell_type": "code",
   "execution_count": null,
   "id": "0b138b3d",
   "metadata": {
    "id": "0b138b3d"
   },
   "outputs": [],
   "source": [
    "# Expected steps:\n",
    "    # 1. Create a PromptTemplate that uses the SYSTEM_TEMPLATE you defined earlier, with input variables for \"context\" and \"question\".\n",
    "    # 2. Initialize your LLM using Ollama with the gemma3:1b model and a low temperature (e.g., 0.1) for reliable, grounded responses.\n",
    "    # 3. Build a ConversationalRetrievalChain by combining the LLM, the retriever, and your custom prompt and name it \"chain\".\n",
    "\n",
    "# Example values\n",
    "context = \"\"\"If you forget your password, click on 'Forgot Password' on the login page. An email will be sent with instructions to reset your password. For further assistance, contact support@example.com.\"\"\"\n",
    "question = \"How can I reset my account password?\"\n",
    "\n",
    "# 1. Create a PromptTemplate using SYSTEM_TEMPLATE with input variables\n",
    "prompt = PromptTemplate(template=SYSTEM_TEMPLATE, input_variables=[\"context\", \"question\"])\n",
    "\n",
    "# 2. Initialize the LLM\n",
    "llm = Ollama(model=\"gemma3:1b\", temperature=0.1)\n",
    "\n",
    "# 3. Build the ConversationalRetrievalChain\n",
    "chain = ConversationalRetrievalChain.from_llm(\n",
    "    llm=llm,\n",
    "    retriever=retriever,\n",
    "    combine_docs_chain_kwargs={\"prompt\": prompt}\n",
    ")"
   ]
  },
  {
   "cell_type": "markdown",
   "id": "64a6c7fc",
   "metadata": {
    "id": "64a6c7fc"
   },
   "source": [
    "When you ask a question, the retriever pulls the top few relevant text chunks, the model reads them through the system prompt, and then it generates an answer based on that context.\n",
    "\n",
    "This structure makes the system transparent and easy to debug. You can inspect what text was retrieved, tune parameters like k, and experiment with different prompts to see how they affect the output quality.\n"
   ]
  },
  {
   "cell_type": "markdown",
   "id": "6c1eb44d",
   "metadata": {
    "id": "6c1eb44d"
   },
   "source": [
    "### 5.3 - Validate the RAG chain"
   ]
  },
  {
   "cell_type": "markdown",
   "id": "e5ee50de",
   "metadata": {
    "id": "e5ee50de"
   },
   "source": [
    "We run a few questions to make sure everything behaves as expecte. Experiment by adding you own questions."
   ]
  },
  {
   "cell_type": "code",
   "execution_count": null,
   "id": "8f6d7a7d",
   "metadata": {
    "id": "8f6d7a7d"
   },
   "outputs": [],
   "source": [
    "test_questions = [\n",
    "    \"If I'm not happy with my purchase, what is your refund policy and how do I start a return?\",\n",
    "    \"How long will delivery take for a standard order, and where can I track my package once it ships?\",\n",
    "    \"What's the quickest way to contact your support team, and what are your operating hours?\",\n",
    "]\n",
    "\n",
    "# Expected steps:\n",
    "    # 1. Initialize an empty chat_history list.\n",
    "    # 2. Loop through test_questions, pass each question and the current chat history to the chain, and append the new answer.\n",
    "    # 3. Print each question and the LLM's response to verify it’s working correctly.\n",
    "\n",
    "# 1. Initialize an empty chat_history list\n",
    "chat_history = []\n",
    "\n",
    "# 2. Loop through test_questions\n",
    "for question in test_questions:\n",
    "    # Get the answer from the chain, passing the current chat history\n",
    "    answer = chain.run({\"question\": question, \"chat_history\": chat_history})\n",
    "\n",
    "    # Append the question and answer to chat_history\n",
    "    chat_history.append((question, answer))\n",
    "\n",
    "    # 3. Print the question and response\n",
    "    print(f\"Q: {question}\")\n",
    "    print(f\"A: {answer}\\n\")"
   ]
  },
  {
   "cell_type": "markdown",
   "id": "86f8c6b4",
   "metadata": {
    "id": "86f8c6b4"
   },
   "source": [
    "### 6 - Build the Streamlit UI (optional)"
   ]
  },
  {
   "cell_type": "markdown",
   "id": "eecc640b",
   "metadata": {
    "id": "eecc640b"
   },
   "source": [
    "The goal here is to create a tiny demo so you can interact with your RAG system. The focus is not on UI design. We will build a very small interface only to demonstrate the end-to-end flow.\n",
    "\n",
    "There are many ways to make a UI. Some frameworks are powerful but take longer to set up, while others are simple and good for quick experiments. Streamlit is a common choice for fast prototyping because it lets you make a usable interface with only a few lines of Python. If you want to learn the basics, see the Streamlit Quickstart: https://docs.streamlit.io/deploy/streamlit-community-cloud/get-started/quickstart\n",
    "\n",
    "This step is optional. If it is not useful for your work, you can skip it. We will also complete this part together during the live session.\n",
    "\n",
    "In this cell, we write a minimal **`app.py`** that starts a simple chat UI and calls your RAG chain."
   ]
  },
  {
   "cell_type": "code",
   "execution_count": null,
   "id": "c182fb86",
   "metadata": {
    "id": "c182fb86"
   },
   "outputs": [],
   "source": [
    "import streamlit as st\n",
    "\n",
    "# Make sure you have already defined `chain` in this notebook or imported it\n",
    "\n",
    "st.title(\"📄 Customer Support Chatbot (RAG)\")\n",
    "\n",
    "# Initialize chat history in session state\n",
    "if \"chat_history\" not in st.session_state:\n",
    "    st.session_state.chat_history = []\n",
    "\n",
    "# User input\n",
    "user_input = st.text_input(\"Ask a question about your documents:\")\n",
    "\n",
    "if st.button(\"Send\") and user_input:\n",
    "    # Get answer from the RAG chain\n",
    "    answer = chain.run({\"question\": user_input, \"chat_history\": st.session_state.chat_history})\n",
    "\n",
    "    # Append to chat history\n",
    "    st.session_state.chat_history.append((user_input, answer))\n",
    "\n",
    "    # Display the conversation\n",
    "    for q, a in st.session_state.chat_history:\n",
    "        st.markdown(f\"**Q:** {q}\")\n",
    "        st.markdown(f\"**A:** {a}\")\n",
    "        st.markdown(\"---\")"
   ]
  },
  {
   "cell_type": "markdown",
   "id": "04dc8ad3",
   "metadata": {
    "id": "04dc8ad3"
   },
   "source": [
    "Run `streamlit run app.py` from your terminal."
   ]
  },
  {
   "cell_type": "markdown",
   "id": "2a7328a5",
   "metadata": {
    "id": "2a7328a5"
   },
   "source": [
    "## 🎉 Congratulations!\n",
    "\n",
    "You’ve just built, tested, and demoed a fully working **customer-support chatbot**.  \n",
    "In one project you:\n",
    "\n",
    "* **Prepared policy docs**: loaded and chunked them for fast retrieval.  \n",
    "* **Built a vector store**: created a FAISS index with text embeddings.  \n",
    "* **Plugged in an LLM**: wrapped Gemma3 with LangChain and a prompt-aware RAG chain.  \n",
    "* **Validated end-to-end**: answered refund, shipping, and contact questions with confidence.  \n",
    "\n",
    "Swap in new documents, tweak the prompt, and your store’s customers get instant, accurate answers.\n",
    "\n",
    "👏 **Great job!** Take a moment to celebrate. The skills you used here power most RAG-based chatbots you see everywhere.\n"
   ]
  }
 ],
 "metadata": {
  "colab": {
   "provenance": []
  },
  "kernelspec": {
   "display_name": "rag-chatbot",
   "language": "python",
   "name": "python3"
  },
  "language_info": {
   "codemirror_mode": {
    "name": "ipython",
    "version": 3
   },
   "file_extension": ".py",
   "mimetype": "text/x-python",
   "name": "python",
   "nbconvert_exporter": "python",
   "pygments_lexer": "ipython3",
   "version": "3.11.12"
  }
 },
 "nbformat": 4,
 "nbformat_minor": 5
}
